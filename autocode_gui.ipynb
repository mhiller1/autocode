{
  "nbformat": 4,
  "nbformat_minor": 0,
  "metadata": {
    "colab": {
      "private_outputs": true,
      "provenance": []
    },
    "kernelspec": {
      "name": "python3",
      "display_name": "Python 3"
    },
    "language_info": {
      "name": "python"
    },
    "accelerator": "GPU",
    "gpuClass": "standard"
  },
  "cells": [
    {
      "cell_type": "code",
      "source": [
        "!wget https://repo.anaconda.com/miniconda/Miniconda3-latest-Linux-x86_64.sh\n",
        "!bash Miniconda3-latest-Linux-x86_64.sh -b -f -p /usr/local/ &> /dev/null\n",
        "!rm Miniconda3-latest-Linux-x86_64.sh\n",
        "\n",
        "import os\n",
        "os.environ['PYTHONPATH'] = \"/usr/local/miniconda3\"\n",
        "os.environ['PATH'] = '/usr/local/miniconda3/bin:' + os.environ['PATH']\n",
        "\n",
        "!conda --version\n",
        "!python --version\n",
        "\n",
        "!python -m pip install \"git+https://github.com/mhiller1/autocode\"\n",
        "!python -m autocode --share"
      ],
      "metadata": {
        "id": "N5SF0Ph8he6a"
      },
      "execution_count": null,
      "outputs": []
    },
    {
      "cell_type": "code",
      "source": [
        "!python -m pip install \"git+https://github.com/mhiller1/autocode\"\n",
        "!python -m autocode --share"
      ],
      "metadata": {
        "id": "zoivfULymGd2"
      },
      "execution_count": null,
      "outputs": []
    }
  ]
}